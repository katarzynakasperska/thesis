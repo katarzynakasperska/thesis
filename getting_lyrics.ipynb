{
 "cells": [
  {
   "cell_type": "code",
   "execution_count": null,
   "id": "905035c1-6f8d-4399-9f7b-86261490aa56",
   "metadata": {},
   "outputs": [],
   "source": [
    "#pip install lyricsgenius\n",
    "import lyricsgenius as lg\n",
    "#api_key is your TOKEN from Genius Developers. It will look like that.\n",
    "api_key = \"AVD4yMSZU3BsiGEpnohBIbnPj0EweXieJIgCVsaxYxrbxQAqWrN6nCaOQdsH9f3B\"\n",
    "genius = lg.Genius(api_key)\n",
    "genius = lg.Genius(api_key, skip_non_songs=True, remove_section_headers=True)\n",
    "#genius.verbose = False\n",
    "genius.timeout = 120"
   ]
  },
  {
   "cell_type": "code",
   "execution_count": null,
   "id": "9a09a5c6-3fc6-496b-8343-e7f23ad27d23",
   "metadata": {},
   "outputs": [],
   "source": [
    "import pandas\n",
    "data = pandas.read_excel(\"dataset.xlsx\")\n",
    "print(data[:5])\n",
    "\n",
    "songs = data['song'].tolist()\n",
    "print(songs[0:10])\n",
    "\n",
    "artists = data['artist'].tolist()\n",
    "print(artists[0:10])\n",
    "\n",
    "#peak_rank = data['peak.rank'].tolist()\n",
    "#print(peak_rank[0:10])"
   ]
  },
  {
   "cell_type": "code",
   "execution_count": null,
   "id": "322d0a99-c872-4250-b661-03cfebab345d",
   "metadata": {},
   "outputs": [],
   "source": [
    "#remove whatever is after Featuring, &, With, X and x, Genius has problems with that\n",
    "for i in range (0, len(artists)):\n",
    "    if \"Featuring\" in str(artists[i]):\n",
    "        artists[i] = artists[i].split(\"Featuring\", 1)[0]\n",
    "        \n",
    "for i in range (0, len(artists)):\n",
    "    if \"&\" in str(artists[i]):\n",
    "        artists[i] = artists[i].split(\"&\", 1)[0] \n",
    "        \n",
    "for i in range (0, len(artists)):\n",
    "    if \"With\" in str(artists[i]):\n",
    "        artists[i] = artists[i].split(\"With\", 1)[0]\n",
    "\n",
    "for i in range (0, len(artists)):\n",
    "    if \"X \" in str(artists[i]):\n",
    "        artists[i] = artists[i].split(\"X \", 1)[0]\n",
    "\n",
    "for i in range (0, len(artists)):\n",
    "    if \"x\" in str(artists[i]):\n",
    "        artists[i] = artists[i].split(\"X \", 1)[0]\n",
    "        \n",
    "import re        \n",
    "for i in range (0, len(songs)): #delete anything what's in the brackets in title of the song\n",
    "    if \"(\" in songs[i]:\n",
    "        songs[i] = re.sub(\"[\\(\\[].*?[\\)\\]]\", \"\", songs[i])"
   ]
  },
  {
   "cell_type": "code",
   "execution_count": null,
   "id": "c7c5214f-e366-48ba-98e9-663f5402832b",
   "metadata": {
    "tags": []
   },
   "outputs": [],
   "source": [
    "import string\n",
    "\n",
    "last_words = [[] for x in range(0, len(songs))]\n",
    "\n",
    "for i in range (0, len(songs)):\n",
    "    song = genius.search_song(songs[i], artists[i])\n",
    "    try:\n",
    "        lyrics = song.lyrics\n",
    "        lyrics = str(lyrics)\n",
    "        lyrics = re.sub(\"[\\(\\[].*?[\\)\\]]\", \"\", lyrics) #deleting everything what is in brackets as those are usually vocalizations or repeated previous word/phrase\n",
    "        lyrics = lyrics.replace(\"yeah\", \"\").replace(\"woah\", \"\").replace(\"ayy\", \"\").replace(\"hah\", \"\").replace(\"ooh\", \"\").replace(\"uh-oh\", \"\").replace(\"oohooh\", \"\")\n",
    "        lyrics = lyrics.translate(str.maketrans('', '', string.punctuation))\n",
    "        lyrics_list = lyrics.split(\"\\n\")\n",
    "        lyrics_list.pop(0)\n",
    "        while '' in lyrics_list:\n",
    "            lyrics_list.remove('')\n",
    "        while ' ' in lyrics_list:\n",
    "            lyrics_list.remove(' ')\n",
    "        for el in lyrics_list:\n",
    "            verse = el.split(' ')\n",
    "            while '' in verse:\n",
    "                verse.remove('')\n",
    "            if len(verse) != 0: \n",
    "                last_words[i].append(verse[-1])\n",
    "        if(len(last_words[i])) > 300 or len(last_words[i]) == 0: #sometimes the program finds non-lyrics but different data about e.g. songs from The Voice, then the length of that is usually longer than 300 and none of the normal songs have 300 lines of lyrics, therefore it can be assumed that if the len>300, it's not lyrics\n",
    "            last_words[i] = [\"no lyrics found\"]\n",
    "        for j in range(0, len(last_words[i])):\n",
    "            if \"Embed\" in last_words[i][j]:\n",
    "                last_words[i][j] = last_words[i][j].replace(\"Embed\", \"\").rstrip(\"1234567890\") #deleting Embed part of the word\n",
    "        while '' in last_words[i]:\n",
    "            last_words[i].remove('')\n",
    "    except AttributeError: #sometimes the code can't find the lyrics, then the information is added to the list\n",
    "        last_words[i].append(\"no lyrics found\")\n",
    "        pass\n",
    "\n",
    "print(\"Done\")"
   ]
  },
  {
   "cell_type": "code",
   "execution_count": null,
   "id": "20bd42f7-f945-4e76-a415-706a871ece36",
   "metadata": {},
   "outputs": [],
   "source": [
    "#indices of the songs that lyrics haven't been found, need to delete those songs\n",
    "no_lyrics = [index for index in range(len(last_words)) if last_words[index] == ['no lyrics found']]\n",
    "print(no_lyrics)\n",
    "print(len(no_lyrics))"
   ]
  },
  {
   "cell_type": "code",
   "execution_count": null,
   "id": "460068f6-1017-49b2-b019-256bcf928082",
   "metadata": {},
   "outputs": [],
   "source": [
    "import pandas as pd\n",
    "\n",
    "df = pd.DataFrame(last_words)\n",
    "writer = pd.ExcelWriter('out.xlsx', engine='xlsxwriter')\n",
    "df.to_excel(writer, index=False)\n",
    "writer.save()\n",
    "print(\"Done\")"
   ]
  },
  {
   "cell_type": "code",
   "execution_count": null,
   "id": "a12a57df-5624-452a-9e18-90d5ce096a3c",
   "metadata": {},
   "outputs": [],
   "source": [
    "indices_no_lyrics = pd.DataFrame(no_lyrics)\n",
    "writer = pd.ExcelWriter('indices_no_lyrics.xlsx', engine='xlsxwriter')\n",
    "indices_no_lyrics.to_excel(writer, index=False)\n",
    "writer.save()\n",
    "print(\"Done\")"
   ]
  }
 ],
 "metadata": {
  "kernelspec": {
   "display_name": "Python 3 (ipykernel)",
   "language": "python",
   "name": "python3"
  },
  "language_info": {
   "codemirror_mode": {
    "name": "ipython",
    "version": 3
   },
   "file_extension": ".py",
   "mimetype": "text/x-python",
   "name": "python",
   "nbconvert_exporter": "python",
   "pygments_lexer": "ipython3",
   "version": "3.9.12"
  }
 },
 "nbformat": 4,
 "nbformat_minor": 5
}
