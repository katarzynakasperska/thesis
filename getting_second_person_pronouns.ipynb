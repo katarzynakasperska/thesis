{
 "cells": [
  {
   "cell_type": "code",
   "execution_count": null,
   "id": "6e2044e8-ebf0-41d5-a54c-aceeb2df40dc",
   "metadata": {},
   "outputs": [],
   "source": [
    "#pip install lyricsgenius\n",
    "import lyricsgenius as lg\n",
    "#api_key is your TOKEN from Genius Developers. It will look like that.\n",
    "api_key = \"AVD4yMSZU3BsiGEpnohBIbnPj0EweXieJIgCVsaxYxrbxQAqWrN6nCaOQdsH9f3B\"\n",
    "genius = lg.Genius(api_key)\n",
    "genius = lg.Genius(api_key, skip_non_songs=True, remove_section_headers=True)\n",
    "#genius.verbose = False\n",
    "genius.timeout = 120"
   ]
  },
  {
   "cell_type": "code",
   "execution_count": null,
   "id": "a1bb9cd0-61ca-402b-bc62-3e704c79aa9e",
   "metadata": {},
   "outputs": [],
   "source": [
    "import pandas\n",
    "#data = pandas.read_excel(\"name_artist_rank.xlsx\")\n",
    "data = pandas.read_excel(\"end_data.xlsx\")\n",
    "print(data[:5])\n",
    "\n",
    "songs = data['song'].tolist()\n",
    "print(songs[0:10])\n",
    "\n",
    "artists = data['artist'].tolist()\n",
    "print(artists[0:10])\n",
    "\n",
    "#peak_rank = data['peak.rank'].tolist()\n",
    "#print(peak_rank[0:10])"
   ]
  },
  {
   "cell_type": "code",
   "execution_count": null,
   "id": "890a6ede-b894-48c9-b166-11649b21d137",
   "metadata": {},
   "outputs": [],
   "source": [
    "#remove whatever is after Featuring, &, With, X and x, Genius has problems with that\n",
    "for i in range (0, len(artists)):\n",
    "    if \"Featuring\" in str(artists[i]):\n",
    "        artists[i] = artists[i].split(\"Featuring\", 1)[0]\n",
    "        \n",
    "for i in range (0, len(artists)):\n",
    "    if \"&\" in str(artists[i]):\n",
    "        artists[i] = artists[i].split(\"&\", 1)[0] \n",
    "        \n",
    "for i in range (0, len(artists)):\n",
    "    if \"With\" in str(artists[i]):\n",
    "        artists[i] = artists[i].split(\"With\", 1)[0]\n",
    "\n",
    "for i in range (0, len(artists)):\n",
    "    if \"X \" in str(artists[i]):\n",
    "        artists[i] = artists[i].split(\"X \", 1)[0]\n",
    "\n",
    "for i in range (0, len(artists)):\n",
    "    if \"x\" in str(artists[i]):\n",
    "        artists[i] = artists[i].split(\"X \", 1)[0]\n",
    "        \n",
    "import re        \n",
    "for i in range (0, len(songs)): #delete anything what's in the brackets in title of the song\n",
    "    if \"(\" in songs[i]:\n",
    "        songs[i] = re.sub(\"[\\(\\[].*?[\\)\\]]\", \"\", songs[i])"
   ]
  },
  {
   "cell_type": "code",
   "execution_count": null,
   "id": "44119e16-f83c-4e2c-a2f0-f4d304f110e4",
   "metadata": {},
   "outputs": [],
   "source": [
    "#no_lyrics = pandas.read_excel('you_no_lyrics.xlsx')\n",
    "#no_lyrics = no_lyrics[0].tolist()\n",
    "\n",
    "#print(len(no_lyrics))\n",
    "\n",
    "#data = data.drop(no_lyrics)\n",
    "#songs = data['song'].tolist()\n",
    "#print(songs[0:10])\n",
    "\n",
    "#artists = data['artist'].tolist()\n",
    "#print(artists[0:10])"
   ]
  },
  {
   "cell_type": "code",
   "execution_count": null,
   "id": "36b50474-5630-4bc9-b6fe-1078be101db7",
   "metadata": {
    "tags": []
   },
   "outputs": [],
   "source": [
    "import string\n",
    "\n",
    "you = []\n",
    "\n",
    "for i in range (0, len(songs)):\n",
    "    count = 0\n",
    "    song = genius.search_song(songs[i], artists[i])\n",
    "    try:\n",
    "        lyrics = song.lyrics\n",
    "        lyrics = str(lyrics)\n",
    "        lyrics = re.sub(\"[\\(\\[].*?[\\)\\]]\", \"\", lyrics) #deleting everything what is in brackets as those are usually vocalizations or repeated previous word/phrase\n",
    "        lyrics = lyrics.replace(\"\\n\", \" \").replace(\"Embed\", \"\").rstrip(\"1234567890\")\n",
    "        lyrics = lyrics.translate(str.maketrans('', '', string.punctuation))\n",
    "        lyrics = lyrics.lower()\n",
    "        lyrics_list = lyrics.split(\" \")\n",
    "        while '' in lyrics_list:\n",
    "            lyrics_list.remove('')\n",
    "        while ' ' in lyrics_list:\n",
    "            lyrics_list.remove(' ')\n",
    "        for el in lyrics_list:\n",
    "            if el == \"you\" or el == \"your\" or el == \"yours\" or el == \"youve\" or el == \"youre\" or el == \"youll\":\n",
    "                count += 1\n",
    "        name_of_song = songs[i].lower().split(\" \")\n",
    "        for el in name_of_song:\n",
    "            if el == \"you\" or el == \"your\" or el == \"yours\":\n",
    "                count = count - 1\n",
    "        you.append(count)\n",
    "        \n",
    "    except AttributeError: #sometimes the code can't find the lyrics, then the information is added to the list\n",
    "        you.append(\"no lyrics found\")\n",
    "        pass\n",
    "    \n",
    "print(you)"
   ]
  },
  {
   "cell_type": "code",
   "execution_count": null,
   "id": "f6e131d4-2c2b-4e07-8149-7f77fa45f40d",
   "metadata": {},
   "outputs": [],
   "source": [
    "import pandas as pd\n",
    "\n",
    "df = pd.DataFrame(you)\n",
    "writer = pd.ExcelWriter('you.xlsx', engine='xlsxwriter')\n",
    "df.to_excel(writer, index=False)\n",
    "writer.save()\n",
    "print(\"Done\")"
   ]
  }
 ],
 "metadata": {
  "kernelspec": {
   "display_name": "Python 3 (ipykernel)",
   "language": "python",
   "name": "python3"
  },
  "language_info": {
   "codemirror_mode": {
    "name": "ipython",
    "version": 3
   },
   "file_extension": ".py",
   "mimetype": "text/x-python",
   "name": "python",
   "nbconvert_exporter": "python",
   "pygments_lexer": "ipython3",
   "version": "3.9.12"
  }
 },
 "nbformat": 4,
 "nbformat_minor": 5
}
